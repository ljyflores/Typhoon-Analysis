{
 "cells": [
  {
   "cell_type": "code",
   "execution_count": 1,
   "metadata": {},
   "outputs": [],
   "source": [
    "import pandas as pd\n",
    "import numpy as np\n",
    "import glob\n",
    "import seaborn as sb\n",
    "import matplotlib.pyplot as plt\n",
    "\n",
    "all_files = glob.glob(\"/Users/lorenzoflores/Desktop/Yale_Academic/Stat Projects/Typhoon Ruby\" + \"/*.csv\")"
   ]
  },
  {
   "cell_type": "code",
   "execution_count": 2,
   "metadata": {
    "collapsed": true
   },
   "outputs": [
    {
     "name": "stdout",
     "output_type": "stream",
     "text": [
      "Reading /Users/lorenzoflores/Desktop/Yale_Academic/Stat Projects/Typhoon Ruby/Ruby Comments 1 - Sheet1.csv\n",
      "Reading /Users/lorenzoflores/Desktop/Yale_Academic/Stat Projects/Typhoon Ruby/Ruby Comments 1 - Sheet1.csv\n",
      "Reading /Users/lorenzoflores/Desktop/Yale_Academic/Stat Projects/Typhoon Ruby/Ruby Comments 10 - Sheet1.csv\n",
      "Reading /Users/lorenzoflores/Desktop/Yale_Academic/Stat Projects/Typhoon Ruby/Ruby Comments 10 - Sheet1.csv\n",
      "Reading /Users/lorenzoflores/Desktop/Yale_Academic/Stat Projects/Typhoon Ruby/Ruby Comments 11 - Sheet1.csv\n",
      "Reading /Users/lorenzoflores/Desktop/Yale_Academic/Stat Projects/Typhoon Ruby/Ruby Comments 11 - Sheet1.csv\n",
      "Reading /Users/lorenzoflores/Desktop/Yale_Academic/Stat Projects/Typhoon Ruby/Ruby Comments 12 - Sheet1.csv\n",
      "Reading /Users/lorenzoflores/Desktop/Yale_Academic/Stat Projects/Typhoon Ruby/Ruby Comments 12 - Sheet1.csv\n",
      "Reading /Users/lorenzoflores/Desktop/Yale_Academic/Stat Projects/Typhoon Ruby/Ruby Comments 13 - Sheet1.csv\n",
      "Reading /Users/lorenzoflores/Desktop/Yale_Academic/Stat Projects/Typhoon Ruby/Ruby Comments 13 - Sheet1.csv\n",
      "Reading /Users/lorenzoflores/Desktop/Yale_Academic/Stat Projects/Typhoon Ruby/Ruby Comments 14 - Sheet1.csv\n",
      "Reading /Users/lorenzoflores/Desktop/Yale_Academic/Stat Projects/Typhoon Ruby/Ruby Comments 14 - Sheet1.csv\n",
      "Reading /Users/lorenzoflores/Desktop/Yale_Academic/Stat Projects/Typhoon Ruby/Ruby Comments 15 - Sheet1.csv\n",
      "Reading /Users/lorenzoflores/Desktop/Yale_Academic/Stat Projects/Typhoon Ruby/Ruby Comments 15 - Sheet1.csv\n",
      "Reading /Users/lorenzoflores/Desktop/Yale_Academic/Stat Projects/Typhoon Ruby/Ruby Comments 16 - Sheet1.csv\n",
      "Reading /Users/lorenzoflores/Desktop/Yale_Academic/Stat Projects/Typhoon Ruby/Ruby Comments 16 - Sheet1.csv\n",
      "Reading /Users/lorenzoflores/Desktop/Yale_Academic/Stat Projects/Typhoon Ruby/Ruby Comments 17 - Sheet1.csv\n",
      "Reading /Users/lorenzoflores/Desktop/Yale_Academic/Stat Projects/Typhoon Ruby/Ruby Comments 17 - Sheet1.csv\n",
      "Reading /Users/lorenzoflores/Desktop/Yale_Academic/Stat Projects/Typhoon Ruby/Ruby Comments 18 - Sheet1.csv\n",
      "Reading /Users/lorenzoflores/Desktop/Yale_Academic/Stat Projects/Typhoon Ruby/Ruby Comments 18 - Sheet1.csv\n",
      "Reading /Users/lorenzoflores/Desktop/Yale_Academic/Stat Projects/Typhoon Ruby/Ruby Comments 19 - Sheet1.csv\n",
      "Reading /Users/lorenzoflores/Desktop/Yale_Academic/Stat Projects/Typhoon Ruby/Ruby Comments 19 - Sheet1.csv\n",
      "Reading /Users/lorenzoflores/Desktop/Yale_Academic/Stat Projects/Typhoon Ruby/Ruby Comments 2 - Sheet1.csv\n",
      "Reading /Users/lorenzoflores/Desktop/Yale_Academic/Stat Projects/Typhoon Ruby/Ruby Comments 2 - Sheet1.csv\n",
      "Reading /Users/lorenzoflores/Desktop/Yale_Academic/Stat Projects/Typhoon Ruby/Ruby Comments 20 - Sheet1.csv\n",
      "Reading /Users/lorenzoflores/Desktop/Yale_Academic/Stat Projects/Typhoon Ruby/Ruby Comments 20 - Sheet1.csv\n",
      "Reading /Users/lorenzoflores/Desktop/Yale_Academic/Stat Projects/Typhoon Ruby/Ruby Comments 21 - Sheet1.csv\n",
      "Reading /Users/lorenzoflores/Desktop/Yale_Academic/Stat Projects/Typhoon Ruby/Ruby Comments 21 - Sheet1.csv\n",
      "Reading /Users/lorenzoflores/Desktop/Yale_Academic/Stat Projects/Typhoon Ruby/Ruby Comments 22 - Sheet1.csv\n",
      "Reading /Users/lorenzoflores/Desktop/Yale_Academic/Stat Projects/Typhoon Ruby/Ruby Comments 22 - Sheet1.csv\n",
      "Reading /Users/lorenzoflores/Desktop/Yale_Academic/Stat Projects/Typhoon Ruby/Ruby Comments 3 - Sheet1.csv\n",
      "Reading /Users/lorenzoflores/Desktop/Yale_Academic/Stat Projects/Typhoon Ruby/Ruby Comments 3 - Sheet1.csv\n",
      "Reading /Users/lorenzoflores/Desktop/Yale_Academic/Stat Projects/Typhoon Ruby/Ruby Comments 4 - Sheet1.csv\n",
      "Reading /Users/lorenzoflores/Desktop/Yale_Academic/Stat Projects/Typhoon Ruby/Ruby Comments 4 - Sheet1.csv\n",
      "Reading /Users/lorenzoflores/Desktop/Yale_Academic/Stat Projects/Typhoon Ruby/Ruby Comments 5 - Sheet1.csv\n",
      "Reading /Users/lorenzoflores/Desktop/Yale_Academic/Stat Projects/Typhoon Ruby/Ruby Comments 5 - Sheet1.csv\n",
      "Reading /Users/lorenzoflores/Desktop/Yale_Academic/Stat Projects/Typhoon Ruby/Ruby Comments 6 - Sheet1.csv\n",
      "Reading /Users/lorenzoflores/Desktop/Yale_Academic/Stat Projects/Typhoon Ruby/Ruby Comments 6 - Sheet1.csv\n",
      "Reading /Users/lorenzoflores/Desktop/Yale_Academic/Stat Projects/Typhoon Ruby/Ruby Comments 7 - Sheet1.csv\n",
      "Reading /Users/lorenzoflores/Desktop/Yale_Academic/Stat Projects/Typhoon Ruby/Ruby Comments 7 - Sheet1.csv\n",
      "Reading /Users/lorenzoflores/Desktop/Yale_Academic/Stat Projects/Typhoon Ruby/Ruby Comments 8 - Sheet1.csv\n",
      "Reading /Users/lorenzoflores/Desktop/Yale_Academic/Stat Projects/Typhoon Ruby/Ruby Comments 8 - Sheet1.csv\n",
      "Reading /Users/lorenzoflores/Desktop/Yale_Academic/Stat Projects/Typhoon Ruby/Ruby Comments 9 - Sheet1.csv\n",
      "Reading /Users/lorenzoflores/Desktop/Yale_Academic/Stat Projects/Typhoon Ruby/Ruby Comments 9 - Sheet1.csv\n"
     ]
    }
   ],
   "source": [
    "def extractText(csv):\n",
    "    print(\"Reading \"+csv)\n",
    "    file = pd.read_csv(csv)\n",
    "    return (list(file.iloc[:,0]))\n",
    "\n",
    "rubyComments = []\n",
    "rubyTimes = []\n",
    "\n",
    "for item in all_files:\n",
    "    rubyComments.extend(extractText(item))\n",
    "    rubyTimes.extend(extractText(item))"
   ]
  },
  {
   "cell_type": "markdown",
   "metadata": {},
   "source": [
    "#### Lots of Data Cleaning"
   ]
  },
  {
   "cell_type": "code",
   "execution_count": 3,
   "metadata": {},
   "outputs": [],
   "source": [
    "import re\n",
    "def clean(string):\n",
    "    string = str(string).lower()\n",
    "    string = string.split(\"december\",1)[0]\n",
    "    string = string.split(\"http\",1)[0]\n",
    "    string = string.replace('.',' ')\n",
    "    string = string.replace(',',' ')\n",
    "    string = string.replace(\"'\",' ')\n",
    "    string = string.replace(\"!\",' ')\n",
    "    \n",
    "    string = string.replace(\"\\n\",\" \")\n",
    "    string = re.sub('\\d', ' ', string)\n",
    "    return (string)"
   ]
  },
  {
   "cell_type": "code",
   "execution_count": 4,
   "metadata": {},
   "outputs": [],
   "source": [
    "for i in range(len(rubyComments)):\n",
    "    rubyComments[i] = clean(rubyComments[i])"
   ]
  },
  {
   "cell_type": "code",
   "execution_count": 5,
   "metadata": {},
   "outputs": [],
   "source": [
    "tokens = []\n",
    "for comment in rubyComments:\n",
    "    processed = comment.lower().strip().split(' ')\n",
    "    tokens.append(processed)"
   ]
  },
  {
   "cell_type": "code",
   "execution_count": 8,
   "metadata": {},
   "outputs": [],
   "source": [
    "tokensProcessed = []\n",
    "for comment in tokens:\n",
    "    commentWords = []\n",
    "    for word in comment:\n",
    "        if word == '':\n",
    "            pass\n",
    "        if '?' in word:\n",
    "            commentWords.append(word[-1])\n",
    "            commentWords.append(word[0:len(word)])\n",
    "        elif word == '.':\n",
    "            pass\n",
    "        elif word == 'tau':\n",
    "            commentWords.append('tayo')\n",
    "        elif word in ['bkt','bakt']:\n",
    "            commentWords.append('bakit')\n",
    "        elif word in ['ngaun','ngayn']:\n",
    "            commentWords.append('ngayn')\n",
    "        elif word in ['kbbyan','kababayans','kbabayan']:\n",
    "            commentWords.append('kababayan')\n",
    "        elif word == 'nman':\n",
    "            commentWords.append('naman')\n",
    "        elif word in ['lng','lang','nlng']:\n",
    "            commentWords.append('nalang')\n",
    "        elif word == 'sna':\n",
    "            commentWords.append('sana')\n",
    "        elif word == 'don':\n",
    "            commentWords.append('doon')\n",
    "        elif word in ['thx','tnx','thanxs']:\n",
    "            commentWords.append('thanks')\n",
    "        elif word in ['sgnal','cignal']:\n",
    "            commentWords.append('signal')\n",
    "        else:\n",
    "            commentWords.append(word)\n",
    "    tokensProcessed.append(commentWords)"
   ]
  },
  {
   "cell_type": "code",
   "execution_count": 9,
   "metadata": {},
   "outputs": [],
   "source": [
    "from collections import Counter\n",
    "vocab = Counter()\n",
    "for token in tokensProcessed:\n",
    "    vocab.update(token)"
   ]
  },
  {
   "cell_type": "code",
   "execution_count": 10,
   "metadata": {},
   "outputs": [],
   "source": [
    "tokens = []\n",
    "for token in vocab.elements():\n",
    "    if vocab[token] >= 25:\n",
    "        tokens.append(token)\n",
    "vocab = Counter(tokens)"
   ]
  },
  {
   "cell_type": "code",
   "execution_count": 11,
   "metadata": {},
   "outputs": [],
   "source": [
    "stop_words = []\n",
    "for item in vocab.most_common(25):\n",
    "    stop_word = item[0]\n",
    "    stop_words.append(stop_word)"
   ]
  },
  {
   "cell_type": "code",
   "execution_count": 12,
   "metadata": {
    "collapsed": true
   },
   "outputs": [
    {
     "data": {
      "text/plain": [
       "['',\n",
       " '·',\n",
       " 'sa',\n",
       " 'ang',\n",
       " 'na',\n",
       " 'the',\n",
       " 'po',\n",
       " 'god',\n",
       " 'ng',\n",
       " 'and',\n",
       " 'lord',\n",
       " 'us',\n",
       " 'amen',\n",
       " '?',\n",
       " 'to',\n",
       " 'is',\n",
       " 'of',\n",
       " 'in',\n",
       " 'at',\n",
       " 'nalang',\n",
       " 'you',\n",
       " 'for',\n",
       " 'pray',\n",
       " 'ruby',\n",
       " 'pa']"
      ]
     },
     "execution_count": 12,
     "metadata": {},
     "output_type": "execute_result"
    }
   ],
   "source": [
    "stop_words"
   ]
  },
  {
   "cell_type": "code",
   "execution_count": 13,
   "metadata": {},
   "outputs": [],
   "source": [
    "stop_words.remove('amen')\n",
    "stop_words.remove('nalang')\n",
    "stop_words.remove('god')\n",
    "stop_words.remove('pray')\n",
    "stop_words.remove('ruby')\n",
    "stop_words.remove('lord')\n",
    "stop_words.remove('?')"
   ]
  },
  {
   "cell_type": "code",
   "execution_count": 14,
   "metadata": {},
   "outputs": [],
   "source": [
    "tokens = []\n",
    "for token in vocab.elements():\n",
    "    if token not in stop_words:\n",
    "        tokens.append(token)\n",
    "vocab = Counter(tokens)"
   ]
  },
  {
   "cell_type": "code",
   "execution_count": 15,
   "metadata": {},
   "outputs": [],
   "source": [
    "lst = ['yan','ka','i','as','so','or','ay','nag','a',\n",
    "       'poh','are','nga','mag','n','m','ma','mo','eh',\n",
    "       'do','ni','di','it','be','u','t','d','nyo',\n",
    "       'nya','with','ung','e','maria','jr','dela','cruz',\n",
    "       'ann','si','&','sya','but','#','an','de','xa',\n",
    "       'dec','nmn','\\xa0\\xa0\\xa0\\xa0','b','c','o','p','no','nan']\n",
    "for word in lst:\n",
    "    vocab.pop(word)"
   ]
  },
  {
   "cell_type": "code",
   "execution_count": 16,
   "metadata": {},
   "outputs": [],
   "source": [
    "items = vocab.items()\n",
    "id2word = {}\n",
    "word2id = {}\n",
    "idx = 0\n",
    "for word, count in vocab.items():\n",
    "    id2word[idx] = word\n",
    "    word2id[word] = idx\n",
    "    idx += 1"
   ]
  },
  {
   "cell_type": "code",
   "execution_count": 17,
   "metadata": {},
   "outputs": [],
   "source": [
    "temp = []\n",
    "for comment in tokensProcessed:\n",
    "    filtered = []\n",
    "    for token in comment:\n",
    "        if token in vocab:\n",
    "            filtered.append(token)\n",
    "    temp.append(filtered)\n",
    "tokensProcessed = temp"
   ]
  },
  {
   "cell_type": "code",
   "execution_count": 18,
   "metadata": {},
   "outputs": [],
   "source": [
    "corpus = []\n",
    "for tweet in tokensProcessed:\n",
    "    tweet_count = Counter(tweet)\n",
    "    corpus_doc = []\n",
    "    for item in tweet_count.items():\n",
    "        pair = (word2id[item[0]], item[1])\n",
    "        corpus_doc.append(pair)\n",
    "    corpus.append(corpus_doc)"
   ]
  },
  {
   "cell_type": "code",
   "execution_count": 22,
   "metadata": {},
   "outputs": [],
   "source": [
    "import gensim\n",
    "lda_model = gensim.models.ldamodel.LdaModel(corpus=corpus,\n",
    "                                            id2word=id2word,\n",
    "                                            num_topics=7, \n",
    "                                            random_state=100,\n",
    "                                            update_every=1,\n",
    "                                            chunksize=100,\n",
    "                                            passes=10,\n",
    "                                            alpha='auto',\n",
    "                                            per_word_topics=True)"
   ]
  },
  {
   "cell_type": "code",
   "execution_count": 23,
   "metadata": {},
   "outputs": [],
   "source": [
    "import numpy as np\n",
    "import pandas as pd\n",
    "num_topics = 7\n",
    "num_words = 15\n",
    "top_words = pd.DataFrame({'word rank': np.arange(1,num_words+1)})\n",
    "for k in np.arange(num_topics): \n",
    "    topic = lda_model.get_topic_terms(k, num_words)\n",
    "    words = [id2word[topic[i][0]] for i in np.arange(num_words)]\n",
    "    probs = [topic[i][1] for i in np.arange(num_words)]\n",
    "    top_words['topic %d' % k] = words"
   ]
  },
  {
   "cell_type": "code",
   "execution_count": 24,
   "metadata": {},
   "outputs": [
    {
     "data": {
      "text/html": [
       "<div>\n",
       "<style scoped>\n",
       "    .dataframe tbody tr th:only-of-type {\n",
       "        vertical-align: middle;\n",
       "    }\n",
       "\n",
       "    .dataframe tbody tr th {\n",
       "        vertical-align: top;\n",
       "    }\n",
       "\n",
       "    .dataframe thead th {\n",
       "        text-align: right;\n",
       "    }\n",
       "</style>\n",
       "<table border=\"1\" class=\"dataframe\">\n",
       "  <thead>\n",
       "    <tr style=\"text-align: right;\">\n",
       "      <th></th>\n",
       "      <th>word rank</th>\n",
       "      <th>topic 0</th>\n",
       "      <th>topic 1</th>\n",
       "      <th>topic 2</th>\n",
       "      <th>topic 3</th>\n",
       "      <th>topic 4</th>\n",
       "      <th>topic 5</th>\n",
       "      <th>topic 6</th>\n",
       "    </tr>\n",
       "  </thead>\n",
       "  <tbody>\n",
       "    <tr>\n",
       "      <th>0</th>\n",
       "      <td>1</td>\n",
       "      <td>amen</td>\n",
       "      <td>god</td>\n",
       "      <td>?</td>\n",
       "      <td>we</td>\n",
       "      <td>mga</td>\n",
       "      <td>humina</td>\n",
       "      <td>pray</td>\n",
       "    </tr>\n",
       "    <tr>\n",
       "      <th>1</th>\n",
       "      <td>2</td>\n",
       "      <td>tayo</td>\n",
       "      <td>lord</td>\n",
       "      <td>thanks</td>\n",
       "      <td>jesus</td>\n",
       "      <td>nalang</td>\n",
       "      <td>more</td>\n",
       "      <td>this</td>\n",
       "    </tr>\n",
       "    <tr>\n",
       "      <th>2</th>\n",
       "      <td>3</td>\n",
       "      <td>ingat</td>\n",
       "      <td>all</td>\n",
       "      <td>s</td>\n",
       "      <td>our</td>\n",
       "      <td>sana</td>\n",
       "      <td>will</td>\n",
       "      <td>that</td>\n",
       "    </tr>\n",
       "    <tr>\n",
       "      <th>3</th>\n",
       "      <td>4</td>\n",
       "      <td>hindi</td>\n",
       "      <td>ruby</td>\n",
       "      <td>update</td>\n",
       "      <td>typhoon</td>\n",
       "      <td>bagyo</td>\n",
       "      <td>good</td>\n",
       "      <td>pls</td>\n",
       "    </tr>\n",
       "    <tr>\n",
       "      <th>4</th>\n",
       "      <td>5</td>\n",
       "      <td>wag</td>\n",
       "      <td>thank</td>\n",
       "      <td>info</td>\n",
       "      <td>your</td>\n",
       "      <td>may</td>\n",
       "      <td>see</td>\n",
       "      <td>prayer</td>\n",
       "    </tr>\n",
       "    <tr>\n",
       "      <th>5</th>\n",
       "      <td>6</td>\n",
       "      <td>mark</td>\n",
       "      <td>keep</td>\n",
       "      <td>weather</td>\n",
       "      <td>emoticon</td>\n",
       "      <td>pagasa</td>\n",
       "      <td>prayers</td>\n",
       "      <td>save</td>\n",
       "    </tr>\n",
       "    <tr>\n",
       "      <th>6</th>\n",
       "      <td>7</td>\n",
       "      <td>always</td>\n",
       "      <td>safe</td>\n",
       "      <td>kami</td>\n",
       "      <td>from</td>\n",
       "      <td>pag</td>\n",
       "      <td>salamat</td>\n",
       "      <td>not</td>\n",
       "    </tr>\n",
       "    <tr>\n",
       "      <th>7</th>\n",
       "      <td>8</td>\n",
       "      <td>yung</td>\n",
       "      <td>please</td>\n",
       "      <td>signal</td>\n",
       "      <td>have</td>\n",
       "      <td>storm</td>\n",
       "      <td>now</td>\n",
       "      <td>family</td>\n",
       "    </tr>\n",
       "    <tr>\n",
       "      <th>8</th>\n",
       "      <td>9</td>\n",
       "      <td>rin</td>\n",
       "      <td>on</td>\n",
       "      <td>faith</td>\n",
       "      <td>sarah</td>\n",
       "      <td>lahat</td>\n",
       "      <td>santos</td>\n",
       "      <td>samar</td>\n",
       "    </tr>\n",
       "    <tr>\n",
       "      <th>9</th>\n",
       "      <td>10</td>\n",
       "      <td>kababayan</td>\n",
       "      <td>my</td>\n",
       "      <td>updates</td>\n",
       "      <td>mercy</td>\n",
       "      <td>ba</td>\n",
       "      <td>yolanda</td>\n",
       "      <td>time</td>\n",
       "    </tr>\n",
       "    <tr>\n",
       "      <th>10</th>\n",
       "      <td>11</td>\n",
       "      <td>dios</td>\n",
       "      <td>protect</td>\n",
       "      <td>kph</td>\n",
       "      <td>track</td>\n",
       "      <td>naman</td>\n",
       "      <td>best</td>\n",
       "      <td>super</td>\n",
       "    </tr>\n",
       "    <tr>\n",
       "      <th>11</th>\n",
       "      <td>12</td>\n",
       "      <td>panginoon</td>\n",
       "      <td>praying</td>\n",
       "      <td>kung</td>\n",
       "      <td>name</td>\n",
       "      <td>ko</td>\n",
       "      <td>its</td>\n",
       "      <td>let</td>\n",
       "    </tr>\n",
       "    <tr>\n",
       "      <th>12</th>\n",
       "      <td>13</td>\n",
       "      <td>mary</td>\n",
       "      <td>help</td>\n",
       "      <td>wind</td>\n",
       "      <td>smile</td>\n",
       "      <td>para</td>\n",
       "      <td>kay</td>\n",
       "      <td>just</td>\n",
       "    </tr>\n",
       "    <tr>\n",
       "      <th>13</th>\n",
       "      <td>14</td>\n",
       "      <td>what</td>\n",
       "      <td>people</td>\n",
       "      <td>man</td>\n",
       "      <td>manila</td>\n",
       "      <td>bagyong</td>\n",
       "      <td>am</td>\n",
       "      <td>can</td>\n",
       "    </tr>\n",
       "    <tr>\n",
       "      <th>14</th>\n",
       "      <td>15</td>\n",
       "      <td>visayas</td>\n",
       "      <td>everyone</td>\n",
       "      <td>lalo</td>\n",
       "      <td>john</td>\n",
       "      <td>wala</td>\n",
       "      <td>landfall</td>\n",
       "      <td>yes</td>\n",
       "    </tr>\n",
       "  </tbody>\n",
       "</table>\n",
       "</div>"
      ],
      "text/plain": [
       "    word rank    topic 0   topic 1  topic 2   topic 3  topic 4   topic 5  \\\n",
       "0           1       amen       god        ?        we      mga    humina   \n",
       "1           2       tayo      lord   thanks     jesus   nalang      more   \n",
       "2           3      ingat       all        s       our     sana      will   \n",
       "3           4      hindi      ruby   update   typhoon    bagyo      good   \n",
       "4           5        wag     thank     info      your      may       see   \n",
       "5           6       mark      keep  weather  emoticon   pagasa   prayers   \n",
       "6           7     always      safe     kami      from      pag   salamat   \n",
       "7           8       yung    please   signal      have    storm       now   \n",
       "8           9        rin        on    faith     sarah    lahat    santos   \n",
       "9          10  kababayan        my  updates     mercy       ba   yolanda   \n",
       "10         11       dios   protect      kph     track    naman      best   \n",
       "11         12  panginoon   praying     kung      name       ko       its   \n",
       "12         13       mary      help     wind     smile     para       kay   \n",
       "13         14       what    people      man    manila  bagyong        am   \n",
       "14         15    visayas  everyone     lalo      john     wala  landfall   \n",
       "\n",
       "   topic 6  \n",
       "0     pray  \n",
       "1     this  \n",
       "2     that  \n",
       "3      pls  \n",
       "4   prayer  \n",
       "5     save  \n",
       "6      not  \n",
       "7   family  \n",
       "8    samar  \n",
       "9     time  \n",
       "10   super  \n",
       "11     let  \n",
       "12    just  \n",
       "13     can  \n",
       "14     yes  "
      ]
     },
     "execution_count": 24,
     "metadata": {},
     "output_type": "execute_result"
    }
   ],
   "source": [
    "top_words"
   ]
  },
  {
   "cell_type": "code",
   "execution_count": 28,
   "metadata": {},
   "outputs": [],
   "source": [
    "top_words.columns = ['word rank','Religious/Safety/Filipinos','Religious',\n",
    "                     'Asking for Updates','Scared/Asking for Mercy',\n",
    "                     'Hopeful','Giving Updates','Prayers/Family']\n",
    "labels = {'topic_num':range(7), 'topic_label':top_words.columns[1:]}\n",
    "labels = pd.DataFrame(labels)\n",
    "\n",
    "def create_topic_table(comments, corpus, lda_model):   \n",
    "    # initialize some arrays\n",
    "    probs = []\n",
    "    topic = []\n",
    "    label = []\n",
    "    comms = []\n",
    "    for i in range(len(corpus)):\n",
    "        comms.append(comments[i][0:200])\n",
    "        \n",
    "        topic_dist = lda_model.get_document_topics(corpus[i])\n",
    "        maxIndex = np.argmax([item[1] for item in topic_dist])\n",
    "        topic.append(topic_dist[maxIndex][0])\n",
    "        probs.append(topic_dist[maxIndex][1])\n",
    "        label.append(labels['topic_label'][np.where(labels['topic_num'] == topic_dist[maxIndex][0])[0][0]])\n",
    "    \n",
    "    table = pd.DataFrame()\n",
    "    table['Topic'] = topic\n",
    "    table['Label'] = label\n",
    "    table['Probability'] = probs\n",
    "    table['Comment'] = comms\n",
    "    return table\n",
    "\n",
    "topic_table = create_topic_table(rubyComments, corpus, lda_model)\n",
    "topic_table"
   ]
  },
  {
   "cell_type": "code",
   "execution_count": 178,
   "metadata": {},
   "outputs": [
    {
     "data": {
      "text/plain": [
       "False"
      ]
     },
     "execution_count": 178,
     "metadata": {},
     "output_type": "execute_result"
    }
   ],
   "source": []
  },
  {
   "cell_type": "code",
   "execution_count": 46,
   "metadata": {},
   "outputs": [
    {
     "data": {
      "text/plain": [
       "<matplotlib.axes._subplots.AxesSubplot at 0x1a24702198>"
      ]
     },
     "execution_count": 46,
     "metadata": {},
     "output_type": "execute_result"
    },
    {
     "data": {
      "image/png": "[encoded data removed]",
      "text/plain": [
       "<Figure size 432x288 with 1 Axes>"
      ]
     },
     "metadata": {},
     "output_type": "display_data"
    }
   ],
   "source": [
    "plt.style.use('seaborn-ticks')\n",
    "topic_table['Label'].value_counts().plot(kind='barh')"
   ]
  },
  {
   "cell_type": "code",
   "execution_count": 30,
   "metadata": {},
   "outputs": [],
   "source": [
    "import csv\n",
    "topic_table.to_csv('/Users/lorenzoflores/Desktop/Yale_Academic/Stat Projects/Typhoon Ruby/comment_predictions.csv')"
   ]
  },
  {
   "cell_type": "code",
   "execution_count": 55,
   "metadata": {},
   "outputs": [],
   "source": [
    "data = pd.read_csv(all_files[0])\n",
    "for csv in all_files[1:]:\n",
    "    file = pd.read_csv(csv)\n",
    "    data = pd.concat([data,file],ignore_index=True)"
   ]
  },
  {
   "cell_type": "code",
   "execution_count": 72,
   "metadata": {},
   "outputs": [],
   "source": [
    "data = data.fillna(0)"
   ]
  },
  {
   "cell_type": "code",
   "execution_count": 132,
   "metadata": {},
   "outputs": [],
   "source": [
    "topics = []\n",
    "totalTopics = []\n",
    "for i in range(len(data)):\n",
    "    ans = []\n",
    "    if data.iloc[i,7] == 1 or data.iloc[i,8] == 1 or data.iloc[i,10] == 1 or data.iloc[i,9] == 1 or data.iloc[i,11] == 1:\n",
    "        ans.append('Religious')\n",
    "        totalTopics.append('Religious')\n",
    "    \n",
    "    if data.iloc[i,12] == 1:\n",
    "        ans.append('Giving Updates')\n",
    "        totalTopics.append('Giving Updates')\n",
    "    \n",
    "    if data.iloc[i,18] == 1 or data.iloc[i,17] == 1 or data.iloc[i,7] == 1 or data.iloc[i,8] == 1 or data.iloc[i,10] == 1 or data.iloc[i,9] == 1 or data.iloc[i,11] == 1:\n",
    "        ans.append('Religious/Safety/Filipinos')\n",
    "        totalTopics.append('Religious/Safety/Filipinos')\n",
    "        \n",
    "    if data.iloc[i,10] == 1 or data.iloc[i,16] == 1:\n",
    "        ans.append('Prayers/Family')\n",
    "        totalTopics.append('Prayers/Family')\n",
    "        \n",
    "    if data.iloc[i,4] == 1 or data.iloc[i,5] == 1 or data.iloc[i,6] == 1:\n",
    "        ans.append('Scared/Asking for Mercy')\n",
    "        totalTopics.append('Scared/Asking for Mercy')\n",
    "        \n",
    "    if data.iloc[i,13] == 1:\n",
    "        ans.append('Asking for Updates')\n",
    "        totalTopics.append('Asking for Updates')\n",
    "        \n",
    "    if data.iloc[i,1] == 1 or data.iloc[i,2] == 1 or data.iloc[i,3] == 1:\n",
    "        ans.append('Hopeful')\n",
    "        totalTopics.append('Hopeful')\n",
    "        \n",
    "    else:\n",
    "        ans.append('Other')\n",
    "        totalTopics.append('Other')\n",
    "        \n",
    "    topics.append(ans)\n",
    "        "
   ]
  },
  {
   "cell_type": "code",
   "execution_count": 133,
   "metadata": {},
   "outputs": [
    {
     "data": {
      "text/plain": [
       "<matplotlib.axes._subplots.AxesSubplot at 0x1a241a9e10>"
      ]
     },
     "execution_count": 133,
     "metadata": {},
     "output_type": "execute_result"
    },
    {
     "data": {
      "image/png": "[encoded data removed]",
      "text/plain": [
       "<Figure size 432x288 with 1 Axes>"
      ]
     },
     "metadata": {},
     "output_type": "display_data"
    }
   ],
   "source": [
    "plt.style.use('seaborn-ticks')\n",
    "\n",
    "totalTopics = pd.DataFrame(totalTopics, columns = ['Major Category'])\n",
    "totalTopics['Major Category'].value_counts().plot(kind='barh')"
   ]
  },
  {
   "cell_type": "code",
   "execution_count": 134,
   "metadata": {},
   "outputs": [],
   "source": [
    "data['Predicted'] = topic_table['Label']\n",
    "data['Major Category'] = topics"
   ]
  },
  {
   "cell_type": "code",
   "execution_count": 147,
   "metadata": {},
   "outputs": [],
   "source": [
    "score = []\n",
    "for i in range(len(data)):\n",
    "    if data['Predicted'][i] in data['Major Category'][i]:\n",
    "        score.append(1)\n",
    "    elif len(data['Major Category'][i]) == 1 and 'Other' in data['Major Category'][i]:\n",
    "        score.append(None)\n",
    "    else:\n",
    "        score.append(0)\n",
    "data['Score'] = score"
   ]
  },
  {
   "cell_type": "code",
   "execution_count": 144,
   "metadata": {},
   "outputs": [
    {
     "data": {
      "text/plain": [
       "0.48782501031778785"
      ]
     },
     "execution_count": 144,
     "metadata": {},
     "output_type": "execute_result"
    }
   ],
   "source": [
    "sum([item for item in score if item != None])/len([item for item in score if item != None])"
   ]
  },
  {
   "cell_type": "code",
   "execution_count": 145,
   "metadata": {},
   "outputs": [],
   "source": [
    "askin = [index for index,item in enumerate(data['Major Category']) if 'Asking for Updates' in item]\n",
    "givin = [index for index,item in enumerate(data['Major Category']) if 'Giving Updates' in item]\n",
    "hopin = [index for index,item in enumerate(data['Major Category']) if 'Hopeful' in item]\n",
    "praye = [index for index,item in enumerate(data['Major Category']) if 'Prayers/Family' in item]\n",
    "relig = [index for index,item in enumerate(data['Major Category']) if 'Religious' in item]\n",
    "relsa = [index for index,item in enumerate(data['Major Category']) if 'Religious/Safety/Filipinos' in item]\n",
    "scare = [index for index,item in enumerate(data['Major Category']) if 'Scared/Asking for Mercy' in item]"
   ]
  },
  {
   "cell_type": "code",
   "execution_count": 153,
   "metadata": {},
   "outputs": [
    {
     "name": "stdout",
     "output_type": "stream",
     "text": [
      "Asking for Updates: 0.4559386973180077\n",
      "Giving Updates: 0.12708333333333333\n",
      "Hopeful: 0.5445544554455446\n",
      "Prayers/Family: 0.6718606782768103\n",
      "Religious: 0.7062831188493566\n",
      "Religious/Safety/Filipinos: 0.6498293515358362\n",
      "Scared/Asking for Mercy: 0.136\n"
     ]
    }
   ],
   "source": [
    "print('Asking for Updates: '+str(np.mean(data.iloc[askin,:]['Score'])))\n",
    "print('Giving Updates: '+str(np.mean(data.iloc[givin,:]['Score'])))\n",
    "print('Hopeful: '+str(np.mean(data.iloc[hopin,:]['Score'])))\n",
    "print('Prayers/Family: '+str(np.mean(data.iloc[praye,:]['Score'])))\n",
    "print('Religious: '+str(np.mean(data.iloc[relig,:]['Score'])))\n",
    "print('Religious/Safety/Filipinos: '+str(np.mean(data.iloc[relsa,:]['Score'])))\n",
    "print('Scared/Asking for Mercy: '+str(np.mean(data.iloc[scare,:]['Score'])))"
   ]
  }
 ],
 "metadata": {
  "kernelspec": {
   "display_name": "Python 3",
   "language": "python",
   "name": "python3"
  },
  "language_info": {
   "codemirror_mode": {
    "name": "ipython",
    "version": 3
   },
   "file_extension": ".py",
   "mimetype": "text/x-python",
   "name": "python",
   "nbconvert_exporter": "python",
   "pygments_lexer": "ipython3",
   "version": "3.7.1"
  }
 },
 "nbformat": 4,
 "nbformat_minor": 2
}
